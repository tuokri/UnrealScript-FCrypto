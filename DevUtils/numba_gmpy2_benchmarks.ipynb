{
 "cells": [
  {
   "cell_type": "code",
   "execution_count": null,
   "id": "f9658e34-04f9-439c-a54b-f9b17a4730e1",
   "metadata": {},
   "outputs": [],
   "source": [
    "import gmpy2\n",
    "import numba\n",
    "import time"
   ]
  },
  {
   "cell_type": "code",
   "execution_count": null,
   "id": "5fec4995-b398-41e2-a267-3ce325c71ada",
   "metadata": {},
   "outputs": [],
   "source": [
    "rng = gmpy2.random_state(int(time.time()))"
   ]
  },
  {
   "cell_type": "code",
   "execution_count": null,
   "id": "bc392285-2d91-4553-b30c-8bb8f784330c",
   "metadata": {},
   "outputs": [],
   "source": [
    "def rand_prime(rng: gmpy2.mpz, a: int) -> gmpy2.mpz:\n",
    "    while True:\n",
    "        x = gmpy2.mpz_urandomb(rng, a - 1)\n",
    "        x = x.bit_set(0)\n",
    "        x = x.bit_set(a - 1)\n",
    "        if x.is_prime(50):\n",
    "            x -= 1\n",
    "            if x.is_divisible(65537):\n",
    "                continue\n",
    "            x += 1\n",
    "            return x"
   ]
  },
  {
   "cell_type": "code",
   "execution_count": null,
   "id": "a513076a-e856-4fc3-9469-52644ed90e94",
   "metadata": {},
   "outputs": [],
   "source": [
    "@numba.jit(forceobj=True)\n",
    "def rand_prime_numba(x: gmpy2.mpz, a: int) -> gmpy2.mpz:\n",
    "    while True:\n",
    "        # x = gmpy2.mpz_urandomb(self.rng, a - 1)\n",
    "        x = x.bit_set(0)\n",
    "        x = x.bit_set(a - 1)\n",
    "        if x.is_prime(50):\n",
    "            x -= 1\n",
    "            if x.is_divisible(65537):\n",
    "                continue\n",
    "            x += 1\n",
    "            return x"
   ]
  },
  {
   "cell_type": "code",
   "execution_count": null,
   "id": "7e8aab78-7c4e-4ef7-a7b8-0be2869acb33",
   "metadata": {},
   "outputs": [],
   "source": [
    "%%timeit\n",
    "for i in range(2, 16 + 1):\n",
    "    rand_prime(rng, i)"
   ]
  },
  {
   "cell_type": "code",
   "execution_count": null,
   "id": "51e89e7d-c3e8-4ae4-b8c6-73d79c40e9e4",
   "metadata": {},
   "outputs": [],
   "source": [
    "%%timeit\n",
    "for i in range(2, 16 + 1):\n",
    "    x = gmpy2.mpz_urandomb(rng, i - 1)\n",
    "    rand_prime_numba(x, i)"
   ]
  },
  {
   "cell_type": "code",
   "execution_count": null,
   "id": "e92ef786-8594-4f07-a13c-adc573dc2fb0",
   "metadata": {},
   "outputs": [],
   "source": []
  }
 ],
 "metadata": {
  "kernelspec": {
   "display_name": "Python 3 (ipykernel)",
   "language": "python",
   "name": "python3"
  },
  "language_info": {
   "codemirror_mode": {
    "name": "ipython",
    "version": 3
   },
   "file_extension": ".py",
   "mimetype": "text/x-python",
   "name": "python",
   "nbconvert_exporter": "python",
   "pygments_lexer": "ipython3",
   "version": "3.12.3"
  }
 },
 "nbformat": 4,
 "nbformat_minor": 5
}
